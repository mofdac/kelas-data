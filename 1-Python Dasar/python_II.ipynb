{
 "cells": [
  {
   "cell_type": "markdown",
   "metadata": {
    "colab_type": "text",
    "id": "HHkC65nB0fq5"
   },
   "source": [
    "# **PYTHON II**"
   ]
  },
  {
   "cell_type": "markdown",
   "metadata": {
    "colab_type": "text",
    "id": "f9WOfFb70uX8"
   },
   "source": [
    "## Dasar"
   ]
  },
  {
   "cell_type": "markdown",
   "metadata": {
    "colab_type": "text",
    "id": "IrzQ57Dy07fK"
   },
   "source": [
    "## Decomposisi"
   ]
  },
  {
   "cell_type": "markdown",
   "metadata": {
    "colab_type": "text",
    "id": "-CmOjvok1GB0"
   },
   "source": [
    "* Memecah masalah pada ke permasalahan utamanya\n",
    "* biasanya dimulai dari hasil yang ingin dicapai\n",
    "* Apa yang kita punya dan hasil apa yang ingin dicapai"
   ]
  },
  {
   "cell_type": "markdown",
   "metadata": {
    "colab_type": "text",
    "id": "Z9FpNrJk2u8F"
   },
   "source": [
    "contoh :\n",
    "\n",
    "Masalah -> Lapar\n",
    "\n",
    "Yang ingin dicapai -> hilang rasa lapar\n",
    "\n",
    "Yang dipunya -> gelas, piring, nasi, lauk\n",
    "\n",
    "yang belum ada -> **air**\n",
    "\n",
    "\n",
    "Alur pemecahan masalah :\n",
    "1. ambil piring\n",
    "2. ambil nasi\n",
    "3. taruh nasi di piring\n",
    "4. ambil gelas\n",
    "5. **dapatkan** air (bs dengan pemecahan masalah lain/object)\n",
    "6. proses makan"
   ]
  },
  {
   "cell_type": "markdown",
   "metadata": {
    "colab_type": "text",
    "id": "2ORi-Oyp5Q16"
   },
   "source": [
    "**class lapar**\n",
    "\n",
    "object lapar:  \n",
    "&nbsp;fungsi inisiasi(gelas, piring, nasi, lauk) :  \n",
    "&nbsp;&nbsp;piring = piring  \n",
    "&nbsp;&nbsp;gelas = gelas  \n",
    "&nbsp;&nbsp;nasi = nasi  \n",
    "&nbsp;&nbsp;lauk = lauk  \n",
    "\n",
    "  \n",
    "&nbsp;fungsi getAir():  \n",
    "&nbsp;&nbsp; air = air.getAir() # panggil class air\n",
    "\n",
    "  \n",
    "&nbsp;fungsi taruhNasi():  \n",
    "&nbsp;&nbsp; makan = nasi + piring\n",
    "\n",
    "&nbsp; fungsi taruhAir():  \n",
    "&nbsp;&nbsp; minum = gelas + air\n",
    "\n",
    "  \n",
    "&nbsp;fungsi hilangLapar():  \n",
    "&nbsp;&nbsp; return makan + minum"
   ]
  },
  {
   "cell_type": "markdown",
   "metadata": {
    "colab_type": "text",
    "id": "WPRmtRZv78uI"
   },
   "source": []
  },
  {
   "cell_type": "markdown",
   "metadata": {
    "colab_type": "text",
    "id": "uL-oLfKz0wgu"
   },
   "source": [
    "## Function"
   ]
  },
  {
   "cell_type": "markdown",
   "metadata": {
    "colab_type": "text",
    "id": "k_7-Xr21MGFP"
   },
   "source": [
    "### Pemahaman Dasar"
   ]
  },
  {
   "cell_type": "markdown",
   "metadata": {
    "colab_type": "text",
    "id": "3DoHxQXE4DpE"
   },
   "source": [
    "1. Fungsi adalah sebuah algoritma\n",
    "2. Dibuat untuk memecahkan sebuah masalah\n",
    "3. Bisa menerima nol, satu atau lebih argument\n",
    "4. Bisa memepunyai “return” atau tidak"
   ]
  },
  {
   "cell_type": "markdown",
   "metadata": {
    "colab_type": "text",
    "id": "fIuvxGvKMBCc"
   },
   "source": [
    "### USER PRESPEKTIF\n"
   ]
  },
  {
   "cell_type": "markdown",
   "metadata": {
    "colab_type": "text",
    "id": "K82okJc7MKdm"
   },
   "source": [
    "* Fungsi hanya sebuah prosedur\n",
    "* user hanya tahu argument apa yang perlu diberikan dan hasil apa yang akan didapat"
   ]
  },
  {
   "cell_type": "markdown",
   "metadata": {
    "colab_type": "text",
    "id": "92g-6f0L4aBi"
   },
   "source": [
    "Dalam  contoh diatas bisa getAir, taruhMakan , taruhMinum, dan hilangLapar adalah fungsi.  \n",
    "Masing masing fungsi tersebut memecahkan masalah masalah tertentu yang merupakan sub masalah dari permasalahan yang lebih komplek."
   ]
  },
  {
   "cell_type": "markdown",
   "metadata": {
    "colab_type": "text",
    "id": "Q783d6TDMXzA"
   },
   "source": [
    "### Code"
   ]
  },
  {
   "cell_type": "markdown",
   "metadata": {
    "colab_type": "text",
    "id": "-VkiMXVzNIfk"
   },
   "source": [
    "#### Kode umum function"
   ]
  },
  {
   "cell_type": "markdown",
   "metadata": {
    "colab_type": "text",
    "id": "6Cc6jwlDMcfu"
   },
   "source": [
    "def nama_fungsi(argumen1, argumen2):  \n",
    "&nbsp;&nbsp;hasil = algoritma  \n",
    "&nbsp;&nbsp;return hasil\n"
   ]
  },
  {
   "cell_type": "code",
   "execution_count": 1,
   "metadata": {
    "colab": {},
    "colab_type": "code",
    "id": "xr_XJajuMqNz"
   },
   "outputs": [],
   "source": [
    "def jumlah(angka1,angka2):\n",
    "    hasil = angka1 + angka2\n",
    "    return hasil"
   ]
  },
  {
   "cell_type": "markdown",
   "metadata": {
    "colab_type": "text",
    "id": "y019TsxlM0OT"
   },
   "source": [
    "**Penggunaan**"
   ]
  },
  {
   "cell_type": "code",
   "execution_count": 2,
   "metadata": {
    "colab": {
     "base_uri": "https://localhost:8080/",
     "height": 34
    },
    "colab_type": "code",
    "id": "qxPe4OnrM8ta",
    "outputId": "b48ec115-968c-4dba-bccd-9ae016883977"
   },
   "outputs": [
    {
     "data": {
      "text/plain": [
       "5"
      ]
     },
     "execution_count": 2,
     "metadata": {},
     "output_type": "execute_result"
    }
   ],
   "source": [
    "jumlah(2,3)"
   ]
  },
  {
   "cell_type": "markdown",
   "metadata": {
    "colab_type": "text",
    "id": "Jz_kndX9NR7H"
   },
   "source": [
    "#### Default Value"
   ]
  },
  {
   "cell_type": "markdown",
   "metadata": {
    "colab_type": "text",
    "id": "ZKNDd692NYI0"
   },
   "source": [
    "* Fungsi bisa memiliki default value\n",
    "* Default value di definisikan bila ada\n",
    "skenario dimana user tidak perlu input\n",
    "argument"
   ]
  },
  {
   "cell_type": "code",
   "execution_count": 3,
   "metadata": {
    "colab": {},
    "colab_type": "code",
    "id": "ufOa_E2gNe98"
   },
   "outputs": [],
   "source": [
    "def tambah(argumen1, argumen2 = 9):\n",
    "    hasil = argumen1 + argumen2\n",
    "    return hasil"
   ]
  },
  {
   "cell_type": "code",
   "execution_count": 7,
   "metadata": {
    "colab": {
     "base_uri": "https://localhost:8080/",
     "height": 34
    },
    "colab_type": "code",
    "id": "YYqzpq-nNpbh",
    "outputId": "8e3ca02f-aced-4667-877d-203ba6d99c69"
   },
   "outputs": [
    {
     "data": {
      "text/plain": [
       "8"
      ]
     },
     "execution_count": 7,
     "metadata": {
      "tags": []
     },
     "output_type": "execute_result"
    }
   ],
   "source": [
    "tambah(3,5)"
   ]
  },
  {
   "cell_type": "code",
   "execution_count": 8,
   "metadata": {
    "colab": {
     "base_uri": "https://localhost:8080/",
     "height": 34
    },
    "colab_type": "code",
    "id": "8NHJjM3rNwIq",
    "outputId": "cf979084-a351-4de4-8476-c6e277d8d8ae"
   },
   "outputs": [
    {
     "data": {
      "text/plain": [
       "12"
      ]
     },
     "execution_count": 8,
     "metadata": {
      "tags": []
     },
     "output_type": "execute_result"
    }
   ],
   "source": [
    "tambah(3)"
   ]
  },
  {
   "cell_type": "markdown",
   "metadata": {
    "colab_type": "text",
    "id": "ivd6BweJODpR"
   },
   "source": [
    "### Beberapa Fungsi khusus"
   ]
  },
  {
   "cell_type": "markdown",
   "metadata": {
    "colab_type": "text",
    "id": "26dWqEx8OHWG"
   },
   "source": [
    "#### main()\n",
    "Fungsi ini digunakan untuk mendefinisikan flow dari\n",
    "fungsi lain"
   ]
  },
  {
   "cell_type": "markdown",
   "metadata": {
    "colab_type": "text",
    "id": "J942_OiUOQmb"
   },
   "source": [
    "``def func_1 (argumen):``  \n",
    "``…``  \n",
    "\n",
    "``def func_2 (argumen):``  \n",
    "``…``\n",
    "\n",
    "``def func_3 (argumen):``  \n",
    "``…``\n",
    "\n",
    "``def func_4 (argumen):``  \n",
    "``…``\n",
    "\n",
    "\n",
    "\n",
    "``def main():``  \n",
    "``function_1(23)``  \n",
    "``function_2(24)``"
   ]
  },
  {
   "cell_type": "markdown",
   "metadata": {
    "colab_type": "text",
    "id": "-V6m5-RFOk20"
   },
   "source": [
    "#### __name__\n"
   ]
  },
  {
   "cell_type": "markdown",
   "metadata": {
    "colab_type": "text",
    "id": "6Dbt-DeNOsGn"
   },
   "source": [
    "* Fungsi ini adalah fungsi pertama yang akan dipanggil\n",
    "ketika sebuah file .py di inisiasi.\n",
    "* Inisiasi bisa berupa eksekusi langsung ke file ini atau\n",
    "import ke file lain.\n",
    "* Sama seperti eksekusi __init__ di bahasa pemrograman\n",
    "lain\n",
    "\n",
    "\n",
    "pyhton juga mengenal **init** tapi biasanya digunakan dalam sebual class"
   ]
  },
  {
   "cell_type": "markdown",
   "metadata": {
    "colab_type": "text",
    "id": "H448IWxnO64-"
   },
   "source": [
    "def func_1 (argumen):  \n",
    "&nbsp;&nbsp;…  \n",
    "\n",
    "def func_2 (argumen):  \n",
    "&nbsp;&nbsp;…  \n",
    "\n",
    "def func_3 (argumen):  \n",
    "&nbsp;&nbsp;…  \n",
    "\n",
    "def func_4 (argumen):  \n",
    "&nbsp;&nbsp;…  \n",
    "\n",
    "def main():  \n",
    "&nbsp;&nbsp;function_1(23)  \n",
    "&nbsp;&nbsp;function_2(24)  \n",
    "\n",
    "def \\_\\_name\\_\\_ == “\\_\\_main\\_\\_” :  \n",
    "&nbsp;&nbsp;main()"
   ]
  },
  {
   "cell_type": "markdown",
   "metadata": {
    "colab_type": "text",
    "id": "Uvi7lv9CPtwE"
   },
   "source": [
    "### Fitur tambahan python"
   ]
  },
  {
   "cell_type": "markdown",
   "metadata": {
    "colab_type": "text",
    "id": "bmnXdhz4P1o2"
   },
   "source": [
    "* Hampir semua funsi built in python dapat ditulis ulang user.\n",
    "* Fungsi sepert print, length, for loop\n",
    "* \\_\\_print\\_\\_\n",
    "* \\_\\_len\\_\\_\n",
    "* \\_\\_iter\\_\\_ … \\_\\_next\\_\\_\n",
    "* Semua fungsi fungsi khusus itu memiliki awalan __ dan akhiran __ (double underscore)"
   ]
  },
  {
   "cell_type": "markdown",
   "metadata": {
    "colab_type": "text",
    "id": "aEZTYvNWQNKb"
   },
   "source": [
    "### ANONYMOUS FUNCTION\n",
    "Lambda"
   ]
  },
  {
   "cell_type": "markdown",
   "metadata": {
    "colab_type": "text",
    "id": "oJwI4ehMQS9T"
   },
   "source": [
    "* Fungsi yang biasanya ditulis sekali untuk digunakan sekali.\n",
    "* biasanya sangat singkat.\n",
    "* bisa menggunakan skenario yang lebih komplek akan kadang membingungkan\n",
    "* bila digunakan secara tepat bisa sangat efektif"
   ]
  },
  {
   "cell_type": "markdown",
   "metadata": {
    "colab_type": "text",
    "id": "Lu3gcuVHQ6ry"
   },
   "source": [
    "#### contoh lambda singkat"
   ]
  },
  {
   "cell_type": "code",
   "execution_count": 4,
   "metadata": {
    "colab": {
     "base_uri": "https://localhost:8080/",
     "height": 34
    },
    "colab_type": "code",
    "id": "VcO22vx7QOo5",
    "outputId": "bcc8b7dc-bd7d-45d4-b530-e932f87da0e6"
   },
   "outputs": [
    {
     "name": "stdout",
     "output_type": "stream",
     "text": [
      "3\n"
     ]
    }
   ],
   "source": [
    "add = lambda x, y: x + y\n",
    "#quick simple but sometimes confusing\n",
    "print(add(1,2))"
   ]
  },
  {
   "cell_type": "markdown",
   "metadata": {
    "colab_type": "text",
    "id": "aPFXie6eRTXy"
   },
   "source": [
    "#### contoh lambda rumit"
   ]
  },
  {
   "cell_type": "code",
   "execution_count": 5,
   "metadata": {
    "colab": {
     "base_uri": "https://localhost:8080/",
     "height": 68
    },
    "colab_type": "code",
    "id": "b3DNL12vRWon",
    "outputId": "84937682-beee-41d7-a9b0-4df3508df557"
   },
   "outputs": [
    {
     "name": "stdout",
     "output_type": "stream",
     "text": [
      "2\n",
      "4\n",
      "6\n"
     ]
    }
   ],
   "source": [
    "def multiple(number):\n",
    "  return lambda result: result * number\n",
    "\n",
    "multiple_of_two = multiple(2)\n",
    "\n",
    "print(multiple_of_two(1))\n",
    "print(multiple_of_two(2))\n",
    "print(multiple_of_two(3)) "
   ]
  },
  {
   "cell_type": "markdown",
   "metadata": {
    "colab_type": "text",
    "id": "qx65QPtc0y2G"
   },
   "source": [
    "## Module"
   ]
  },
  {
   "cell_type": "markdown",
   "metadata": {
    "colab_type": "text",
    "id": "tFvM8f20bbfv"
   },
   "source": [
    "### Penjelasan Singkat"
   ]
  },
  {
   "cell_type": "markdown",
   "metadata": {
    "colab_type": "text",
    "id": "9DXQ6ezMR842"
   },
   "source": [
    "file python yang berisi kumpulan function atau class"
   ]
  },
  {
   "cell_type": "markdown",
   "metadata": {
    "colab_type": "text",
    "id": "kvYqEDceR3Jz"
   },
   "source": [
    "* Python module pada umumnya diberi extension .py\n",
    "* Untuk memanggil / menggunakan python modul\n",
    "menggunakan keyword import\n",
    "* Di ikuti dengan nama function yang ingin dipanggil\n",
    "* Bisa dari satu folder yang sama atau modul\n",
    "berbeda (tidak dibahas)\n"
   ]
  },
  {
   "cell_type": "markdown",
   "metadata": {
    "colab_type": "text",
    "id": "fZUk-lqIbi_G"
   },
   "source": [
    "### Contoh"
   ]
  },
  {
   "cell_type": "markdown",
   "metadata": {
    "colab_type": "text",
    "id": "qgVa7ruwSNR7"
   },
   "source": [
    "**Kita akan mengimport file tambah.py yang mempunyai fungsi add didalamnya** \n",
    "\n",
    "\n",
    "``Import tambah as kantor``  \n",
    "\n",
    "``a = kantor.tambah(1,2,3,4,5)``"
   ]
  },
  {
   "cell_type": "markdown",
   "metadata": {
    "colab_type": "text",
    "id": "GssWOzKkSgN0"
   },
   "source": [
    "``# Module name: arithmetic.py``  \n",
    "``# Description: Defined four arithmetic functions``  \n",
    "\n",
    "``def addition_func(first_arg, second_arg):``  \n",
    "&nbsp;&nbsp;``  result = first_arg + second_arg``  \n",
    "&nbsp;&nbsp;``  return result``\n",
    "\n",
    "``def subtraction_func(first_arg, second_arg):``  \n",
    "&nbsp;&nbsp;``  result = first_arg - second_arg``  \n",
    "&nbsp;&nbsp;``  return result``  \n",
    "\n",
    "``def multiplication_func(first_arg, second_arg):``  \n",
    "&nbsp;&nbsp;``  result = first_arg * second_arg``  \n",
    "&nbsp;&nbsp;``  return result``  \n",
    "\n",
    "``def division_func(first_arg, second_arg):``  \n",
    "&nbsp;&nbsp;``  result = first_arg // second_arg``  \n",
    "&nbsp;&nbsp;``  return result``  "
   ]
  },
  {
   "cell_type": "markdown",
   "metadata": {
    "colab_type": "text",
    "id": "MzKYmy1PTrrf"
   },
   "source": [
    "``import arithmetic as arm``  \n",
    "\n",
    "``def main():``  \n",
    "&nbsp;&nbsp;``num1 = int(input(“Enter first number: ”))``  \n",
    "&nbsp;&nbsp;``num2 = int(input(“Enter second number: ”))``  \n",
    "&nbsp;&nbsp;``operator = input(“Enter +, -, *, or /: ”)``  \n",
    "&nbsp;&nbsp;``if operator == ‘+’:``  \n",
    "&nbsp;&nbsp;&nbsp;&nbsp;``output = arm.addition_func(num1, num2)``  \n",
    "&nbsp;&nbsp;&nbsp;&nbsp;``print(“The result is”, output)``  \n",
    "&nbsp;&nbsp;``elif operator == ‘-’:``  \n",
    "&nbsp;&nbsp;&nbsp;&nbsp;``output = arm.subtraction_func(num1, num2)``  \n",
    "&nbsp;&nbsp;&nbsp;&nbsp;``print(“The result is”, output)``  \n",
    "&nbsp;&nbsp;``elif operator == ‘*’:``  \n",
    "&nbsp;&nbsp;&nbsp;&nbsp;``output = arm.multiplication_func(num1, num2)``  \n",
    "&nbsp;&nbsp;&nbsp;&nbsp;``print(“The result is”, output)``  \n",
    "&nbsp;&nbsp;``elif operator == ‘/’:``  \n",
    "&nbsp;&nbsp;&nbsp;&nbsp;``output = arm.division_func(num1, num2)``  \n",
    "&nbsp;&nbsp;&nbsp;&nbsp;``print(“The result is”, output)``  \n",
    "&nbsp;&nbsp;``else:``  \n",
    "&nbsp;&nbsp;&nbsp;&nbsp;``print(“Invalid operator!”)``  \n",
    "\n",
    "\n",
    "``if __name__ == “__main__”:``  \n",
    "&nbsp;&nbsp;``main() ``  "
   ]
  },
  {
   "cell_type": "markdown",
   "metadata": {
    "colab_type": "text",
    "id": "aAMW246R016t"
   },
   "source": [
    "## Class"
   ]
  },
  {
   "cell_type": "markdown",
   "metadata": {
    "colab_type": "text",
    "id": "2CC8QuoKVNj7"
   },
   "source": [
    "### OOP (OBJECT ORIENTED PROGRAMMING)"
   ]
  },
  {
   "cell_type": "markdown",
   "metadata": {
    "colab_type": "text",
    "id": "Trb3HZwaWzGJ"
   },
   "source": [
    "Menggambarkan pemecahan masalah di dunia nyata"
   ]
  },
  {
   "cell_type": "markdown",
   "metadata": {
    "colab_type": "text",
    "id": "VYF7AAWlVS96"
   },
   "source": [
    "class tangan :\n",
    "> lengan_atas  \n",
    "> lengan_bawah  \n",
    "> lengan_bawah  \n",
    "\n",
    "> Fungsi putarTangan:  \n",
    ">> lengan_atas.putar_kanan()  \n",
    ">> lengan_bawah.tetap()  "
   ]
  },
  {
   "cell_type": "markdown",
   "metadata": {
    "colab_type": "text",
    "id": "-W-3ERjLYDOg"
   },
   "source": [
    "### VARIABLE SCOPE IN PYTHON\n"
   ]
  },
  {
   "cell_type": "markdown",
   "metadata": {
    "colab_type": "text",
    "id": "eQHMaYI2YR59"
   },
   "source": [
    "Dalam hampir semua bahasa pemrograman, variable scoope ini bisa diartikan sebagai jangkauan sebuah variable.  \n",
    "Apakah sebuah variable dapat dikenali dari fungsi lain atau bahkan class lain."
   ]
  },
  {
   "cell_type": "markdown",
   "metadata": {
    "colab_type": "text",
    "id": "mUDDZE0PYn3m"
   },
   "source": [
    "![image.png](data:image/png;base64,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)"
   ]
  },
  {
   "cell_type": "markdown",
   "metadata": {
    "colab_type": "text",
    "id": "iLhIoUWzY0xz"
   },
   "source": [
    "#### Local scope\n",
    "* Hanya dikenali secara lokal dalam sebuah fungsi\n",
    "* Bisa memiliki nama yang sama pada fungsi yang lain"
   ]
  },
  {
   "cell_type": "markdown",
   "metadata": {
    "colab_type": "text",
    "id": "lGnB3B6ZZCZP"
   },
   "source": [
    "#### Enclosed scope\n",
    "* Hanya terdapat pada fungsi yang bersifat “nested”\n"
   ]
  },
  {
   "cell_type": "markdown",
   "metadata": {
    "colab_type": "text",
    "id": "QKpIVL89ZIo1"
   },
   "source": [
    "#### Global scope\n",
    "* Dikenali di seluruh script\n",
    "* Biasanya di definisikan di bagian atas untuk memudahkan pemahaman\n"
   ]
  },
  {
   "cell_type": "markdown",
   "metadata": {
    "colab_type": "text",
    "id": "UzZmkIuRZMBU"
   },
   "source": [
    "#### Built in\n",
    "Scope bawaan dari python untuk fungsi fungsi built in. dapat dikenali di semua script python."
   ]
  },
  {
   "cell_type": "markdown",
   "metadata": {
    "colab_type": "text",
    "id": "I0WswDAyZU9u"
   },
   "source": [
    "x = 1 #**global**   \n",
    "\n",
    "def outer():  \n",
    "> y = 20 # **enclosed**  \n",
    "\n",
    "> def inner():  \n",
    ">> a = 20 # **local**  \n",
    ">> y += a  \n",
    "\n",
    "> def innerSecond():  \n",
    ">> a = 24 # **local**  \n",
    ">> y += a  \n",
    ">> print(y)  \n",
    "\n",
    "> print(len(“oke”)) # **len is built in**"
   ]
  },
  {
   "cell_type": "markdown",
   "metadata": {
    "colab_type": "text",
    "id": "kSmcciVjaQv6"
   },
   "source": [
    "Memperhatikan letak **inner** dan **innerSecond**  \n",
    "Apakah scope keduanya terhdap **outer** ?"
   ]
  },
  {
   "cell_type": "markdown",
   "metadata": {
    "colab_type": "text",
    "id": "UBu4x6hmabEu"
   },
   "source": [
    "### Code"
   ]
  },
  {
   "cell_type": "markdown",
   "metadata": {
    "colab_type": "text",
    "id": "xHP_Sm1-ahip"
   },
   "source": [
    "* Diawali dengan kata class\n",
    "* Mempunyai constructor __init__\n",
    "* Semua fungsi mempunya argument self.\n",
    "* Biasanya mempunya Accessor dan Mutator (getter dan setter di java)"
   ]
  },
  {
   "cell_type": "code",
   "execution_count": 11,
   "metadata": {
    "colab": {},
    "colab_type": "code",
    "id": "OdhEBpYgavxZ"
   },
   "outputs": [],
   "source": [
    "class Point():\n",
    "  # fungsi inisiasi class\n",
    "  def __init__(self, x=0, y=0):\n",
    "    self.x = x\n",
    "    self.y = y\n",
    "  \n",
    "  #accessor\n",
    "  def get_x(self):\n",
    "    return self.x\n",
    "  \n",
    "  #accessor\n",
    "  def get_y(self):\n",
    "    return self.y\n",
    "  \n",
    "  #mutator\n",
    "  def set_x(self, x = 0):\n",
    "    self.x = x\n",
    "  \n",
    "  #mutator\n",
    "  def set_y(self, y = 0):\n",
    "    self.y = y\n",
    "  \n",
    "  #pemecahan masalah\n",
    "  def distance_from_origin(self):\n",
    "    temp_x = self.x ** 2\n",
    "    temp_y = self.y ** 2\n",
    "    distance = (temp_x + temp_y) ** 0.5\n",
    "    return distance "
   ]
  },
  {
   "cell_type": "markdown",
   "metadata": {
    "colab_type": "text",
    "id": "QXg9af1LbSbD"
   },
   "source": [
    "# **Terima Kasih**"
   ]
  }
 ],
 "metadata": {
  "colab": {
   "collapsed_sections": [
    "f9WOfFb70uX8",
    "IrzQ57Dy07fK",
    "uL-oLfKz0wgu",
    "k_7-Xr21MGFP",
    "fIuvxGvKMBCc",
    "Q783d6TDMXzA",
    "-VkiMXVzNIfk",
    "Jz_kndX9NR7H",
    "ivd6BweJODpR",
    "26dWqEx8OHWG",
    "-V6m5-RFOk20",
    "Uvi7lv9CPtwE",
    "aEZTYvNWQNKb",
    "Lu3gcuVHQ6ry",
    "aPFXie6eRTXy",
    "qx65QPtc0y2G",
    "aAMW246R016t"
   ],
   "name": "python II.ipynb",
   "provenance": [],
   "toc_visible": true
  },
  "kernelspec": {
   "display_name": "Python 3",
   "language": "python",
   "name": "python3"
  },
  "language_info": {
   "codemirror_mode": {
    "name": "ipython",
    "version": 3
   },
   "file_extension": ".py",
   "mimetype": "text/x-python",
   "name": "python",
   "nbconvert_exporter": "python",
   "pygments_lexer": "ipython3",
   "version": "3.8.5"
  }
 },
 "nbformat": 4,
 "nbformat_minor": 1
}
