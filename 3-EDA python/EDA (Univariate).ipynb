{
 "cells": [
  {
   "cell_type": "markdown",
   "metadata": {},
   "source": [
    "## Setup Environment\n",
    "### import libraries & dataset"
   ]
  },
  {
   "cell_type": "code",
   "execution_count": 24,
   "metadata": {},
   "outputs": [],
   "source": [
    "import pandas as pd\n",
    "import matplotlib.pyplot as plt"
   ]
  },
  {
   "cell_type": "code",
   "execution_count": 25,
   "metadata": {},
   "outputs": [],
   "source": [
    "data_df = pd.read_csv('melbourne delivery.csv')"
   ]
  },
  {
   "cell_type": "markdown",
   "metadata": {},
   "source": [
    "## Exploratory Data Analysis\n",
    "\n",
    "<img src=\"crips_dm.png\">\n",
    "\n",
    "EDA ada pada step data understanding di bagan CRIPS DM di atas. Dengan melakukan EDA, berikut manfaat yang diperoleh:\n",
    "- kita dapat memahami permasalahan yang ada pada data kita, sehingga dapat merencanakan langkah-langkah data cleansing (pada step data preparation)\n",
    "- kita juga dapat merumuskan pertanyaan-pertanyaan bisnis lain, sehingga dapat mempertajam pertanyaan bisnis yang merupakan hasil dari step data understanding\n",
    "- kita juga sudah dapat menghasilkan output berupa hasil analisis deskriptif yang dapat disajikan pada visualisasi data dan dashboard. Output ini kadang terasa cukup sebagai bahan pertimbangan pengambilan keputusan. "
   ]
  },
  {
   "cell_type": "markdown",
   "metadata": {},
   "source": [
    "### Recipe:\n",
    "#### Univariate:\n",
    "- Cek dimensi data (tabel-tabel)\n",
    "- Cek tipe data dari masing-masing kolom\n",
    "- Tampilkan sebagian value dari masing-masing kolom\n",
    "- Lakukan perhitungan descriptive statistics untuk tiap kolom\n",
    "- Lakukan analisis visual dengan memplot tiap variable\n",
    "- Cek missing value\n",
    "\n",
    "...\n",
    "\n",
    "#### Multivariate:\n",
    "..."
   ]
  },
  {
   "cell_type": "markdown",
   "metadata": {},
   "source": [
    "## Univariate EDA\n",
    "#### Cek dimensi data"
   ]
  },
  {
   "cell_type": "code",
   "execution_count": 26,
   "metadata": {},
   "outputs": [
    {
     "data": {
      "text/plain": [
       "(1000, 12)"
      ]
     },
     "execution_count": 26,
     "metadata": {},
     "output_type": "execute_result"
    }
   ],
   "source": [
    "data_df.shape"
   ]
  },
  {
   "cell_type": "markdown",
   "metadata": {},
   "source": [
    "Datanya memiliki 500 baris dan 12 kolom. Dengan melihat dimensi data secara sekilas, kita bisa menyimpulkan apakah kita memiliki data yang cukup untuk melakukan permodelan machine learning dengan membandingan antara jumlah kolom dengan jumlah baris."
   ]
  },
  {
   "cell_type": "markdown",
   "metadata": {},
   "source": [
    "### Cek n baris teratas / terakhir"
   ]
  },
  {
   "cell_type": "code",
   "execution_count": 27,
   "metadata": {},
   "outputs": [
    {
     "data": {
      "text/html": [
       "<div>\n",
       "<style scoped>\n",
       "    .dataframe tbody tr th:only-of-type {\n",
       "        vertical-align: middle;\n",
       "    }\n",
       "\n",
       "    .dataframe tbody tr th {\n",
       "        vertical-align: top;\n",
       "    }\n",
       "\n",
       "    .dataframe thead th {\n",
       "        text-align: right;\n",
       "    }\n",
       "</style>\n",
       "<table border=\"1\" class=\"dataframe\">\n",
       "  <thead>\n",
       "    <tr style=\"text-align: right;\">\n",
       "      <th></th>\n",
       "      <th>order_id</th>\n",
       "      <th>date</th>\n",
       "      <th>time</th>\n",
       "      <th>order_type</th>\n",
       "      <th>branch_code</th>\n",
       "      <th>order_items</th>\n",
       "      <th>order_price</th>\n",
       "      <th>customer_lat</th>\n",
       "      <th>customer_lon</th>\n",
       "      <th>customerHasloyalty?</th>\n",
       "      <th>distance_to_customer_KM</th>\n",
       "      <th>delivery_fee</th>\n",
       "    </tr>\n",
       "  </thead>\n",
       "  <tbody>\n",
       "    <tr>\n",
       "      <th>0</th>\n",
       "      <td>ORDB01647</td>\n",
       "      <td>19/11/2018</td>\n",
       "      <td>18:38:52</td>\n",
       "      <td>Dinner</td>\n",
       "      <td>NaN</td>\n",
       "      <td>[('Salmon', 3), ('Shrimp', 9), ('Fish&amp;Chips', ...</td>\n",
       "      <td>891.5</td>\n",
       "      <td>-37.823797</td>\n",
       "      <td>144.990237</td>\n",
       "      <td>0</td>\n",
       "      <td>9.493</td>\n",
       "      <td>13.458343</td>\n",
       "    </tr>\n",
       "    <tr>\n",
       "      <th>1</th>\n",
       "      <td>ORDY04071</td>\n",
       "      <td>28/03/2018</td>\n",
       "      <td>10:52:23</td>\n",
       "      <td>Breakfast</td>\n",
       "      <td>TP</td>\n",
       "      <td>[('Eggs', 5), ('Pancake', 10), ('Coffee', 3)]</td>\n",
       "      <td>375.0</td>\n",
       "      <td>-37.813087</td>\n",
       "      <td>144.963482</td>\n",
       "      <td>0</td>\n",
       "      <td>8.166</td>\n",
       "      <td>10.606658</td>\n",
       "    </tr>\n",
       "    <tr>\n",
       "      <th>2</th>\n",
       "      <td>ORDZ03354</td>\n",
       "      <td>4/08/2018</td>\n",
       "      <td>15:05:54</td>\n",
       "      <td>Lunch</td>\n",
       "      <td>NS</td>\n",
       "      <td>[('Burger', 6), ('Chicken', 7)]</td>\n",
       "      <td>410.0</td>\n",
       "      <td>-37.803469</td>\n",
       "      <td>144.949764</td>\n",
       "      <td>0</td>\n",
       "      <td>8.333</td>\n",
       "      <td>15.992157</td>\n",
       "    </tr>\n",
       "    <tr>\n",
       "      <th>3</th>\n",
       "      <td>ORDI00927</td>\n",
       "      <td>18/01/2018</td>\n",
       "      <td>8:30:25</td>\n",
       "      <td>Breakfast</td>\n",
       "      <td>NS</td>\n",
       "      <td>[('Steak', 6), ('Coffee', 1), ('Eggs', 7), ('P...</td>\n",
       "      <td>433.0</td>\n",
       "      <td>-37.822928</td>\n",
       "      <td>144.937166</td>\n",
       "      <td>1</td>\n",
       "      <td>10.641</td>\n",
       "      <td>7.577970</td>\n",
       "    </tr>\n",
       "    <tr>\n",
       "      <th>4</th>\n",
       "      <td>ORDY08485</td>\n",
       "      <td>2/06/2018</td>\n",
       "      <td>13:04:13</td>\n",
       "      <td>Breakfast</td>\n",
       "      <td>TP</td>\n",
       "      <td>[('Salad', 6), ('Fries', 1), ('Chicken', 5), (...</td>\n",
       "      <td>641.2</td>\n",
       "      <td>-37.816296</td>\n",
       "      <td>144.967445</td>\n",
       "      <td>0</td>\n",
       "      <td>7.904</td>\n",
       "      <td>13.006944</td>\n",
       "    </tr>\n",
       "  </tbody>\n",
       "</table>\n",
       "</div>"
      ],
      "text/plain": [
       "    order_id        date      time order_type branch_code  \\\n",
       "0  ORDB01647  19/11/2018  18:38:52     Dinner         NaN   \n",
       "1  ORDY04071  28/03/2018  10:52:23  Breakfast          TP   \n",
       "2  ORDZ03354   4/08/2018  15:05:54      Lunch          NS   \n",
       "3  ORDI00927  18/01/2018   8:30:25  Breakfast          NS   \n",
       "4  ORDY08485   2/06/2018  13:04:13  Breakfast          TP   \n",
       "\n",
       "                                         order_items  order_price  \\\n",
       "0  [('Salmon', 3), ('Shrimp', 9), ('Fish&Chips', ...        891.5   \n",
       "1      [('Eggs', 5), ('Pancake', 10), ('Coffee', 3)]        375.0   \n",
       "2                    [('Burger', 6), ('Chicken', 7)]        410.0   \n",
       "3  [('Steak', 6), ('Coffee', 1), ('Eggs', 7), ('P...        433.0   \n",
       "4  [('Salad', 6), ('Fries', 1), ('Chicken', 5), (...        641.2   \n",
       "\n",
       "   customer_lat  customer_lon  customerHasloyalty?  distance_to_customer_KM  \\\n",
       "0    -37.823797    144.990237                    0                    9.493   \n",
       "1    -37.813087    144.963482                    0                    8.166   \n",
       "2    -37.803469    144.949764                    0                    8.333   \n",
       "3    -37.822928    144.937166                    1                   10.641   \n",
       "4    -37.816296    144.967445                    0                    7.904   \n",
       "\n",
       "   delivery_fee  \n",
       "0     13.458343  \n",
       "1     10.606658  \n",
       "2     15.992157  \n",
       "3      7.577970  \n",
       "4     13.006944  "
      ]
     },
     "execution_count": 27,
     "metadata": {},
     "output_type": "execute_result"
    }
   ],
   "source": [
    "data_df.head(5)"
   ]
  },
  {
   "cell_type": "code",
   "execution_count": 28,
   "metadata": {},
   "outputs": [
    {
     "data": {
      "text/html": [
       "<div>\n",
       "<style scoped>\n",
       "    .dataframe tbody tr th:only-of-type {\n",
       "        vertical-align: middle;\n",
       "    }\n",
       "\n",
       "    .dataframe tbody tr th {\n",
       "        vertical-align: top;\n",
       "    }\n",
       "\n",
       "    .dataframe thead th {\n",
       "        text-align: right;\n",
       "    }\n",
       "</style>\n",
       "<table border=\"1\" class=\"dataframe\">\n",
       "  <thead>\n",
       "    <tr style=\"text-align: right;\">\n",
       "      <th></th>\n",
       "      <th>order_id</th>\n",
       "      <th>date</th>\n",
       "      <th>time</th>\n",
       "      <th>order_type</th>\n",
       "      <th>branch_code</th>\n",
       "      <th>order_items</th>\n",
       "      <th>order_price</th>\n",
       "      <th>customer_lat</th>\n",
       "      <th>customer_lon</th>\n",
       "      <th>customerHasloyalty?</th>\n",
       "      <th>distance_to_customer_KM</th>\n",
       "      <th>delivery_fee</th>\n",
       "    </tr>\n",
       "  </thead>\n",
       "  <tbody>\n",
       "    <tr>\n",
       "      <th>995</th>\n",
       "      <td>ORDA10012</td>\n",
       "      <td>18/05/2018</td>\n",
       "      <td>12:33:48</td>\n",
       "      <td>Lunch</td>\n",
       "      <td>BK</td>\n",
       "      <td>[('Chicken', 8), ('Burger', 8), ('Fries', 10)]</td>\n",
       "      <td>624.00</td>\n",
       "      <td>-37.814807</td>\n",
       "      <td>144.957624</td>\n",
       "      <td>0</td>\n",
       "      <td>8.253</td>\n",
       "      <td>14.444586</td>\n",
       "    </tr>\n",
       "    <tr>\n",
       "      <th>996</th>\n",
       "      <td>ORDZ02231</td>\n",
       "      <td>23/02/2018</td>\n",
       "      <td>9:41:24</td>\n",
       "      <td>Breakfast</td>\n",
       "      <td>NS</td>\n",
       "      <td>[('Pancake', 9), ('Eggs', 1), ('Cereal', 7), (...</td>\n",
       "      <td>417.25</td>\n",
       "      <td>-37.800891</td>\n",
       "      <td>144.928206</td>\n",
       "      <td>0</td>\n",
       "      <td>10.102</td>\n",
       "      <td>15.342084</td>\n",
       "    </tr>\n",
       "    <tr>\n",
       "      <th>997</th>\n",
       "      <td>ORDJ01070</td>\n",
       "      <td>31/07/2018</td>\n",
       "      <td>14:55:46</td>\n",
       "      <td>Lunch</td>\n",
       "      <td>NaN</td>\n",
       "      <td>[('Burger', 1), ('Steak', 7)]</td>\n",
       "      <td>346.00</td>\n",
       "      <td>-37.802758</td>\n",
       "      <td>145.002457</td>\n",
       "      <td>0</td>\n",
       "      <td>NaN</td>\n",
       "      <td>14.693429</td>\n",
       "    </tr>\n",
       "    <tr>\n",
       "      <th>998</th>\n",
       "      <td>ORDB05270</td>\n",
       "      <td>2/10/2018</td>\n",
       "      <td>17:07:36</td>\n",
       "      <td>Dinner</td>\n",
       "      <td>TP</td>\n",
       "      <td>[('Shrimp', 4), ('Pasta', 3), ('Salmon', 5)]</td>\n",
       "      <td>503.50</td>\n",
       "      <td>-37.823362</td>\n",
       "      <td>144.941746</td>\n",
       "      <td>0</td>\n",
       "      <td>9.360</td>\n",
       "      <td>13.644242</td>\n",
       "    </tr>\n",
       "    <tr>\n",
       "      <th>999</th>\n",
       "      <td>ORDC06001</td>\n",
       "      <td>26/12/2018</td>\n",
       "      <td>19:49:51</td>\n",
       "      <td>Dinner</td>\n",
       "      <td>NS</td>\n",
       "      <td>[('Salmon', 4), ('Shrimp', 7), ('Fish&amp;Chips', ...</td>\n",
       "      <td>932.00</td>\n",
       "      <td>-37.804271</td>\n",
       "      <td>145.011161</td>\n",
       "      <td>0</td>\n",
       "      <td>10.127</td>\n",
       "      <td>15.974725</td>\n",
       "    </tr>\n",
       "  </tbody>\n",
       "</table>\n",
       "</div>"
      ],
      "text/plain": [
       "      order_id        date      time order_type branch_code  \\\n",
       "995  ORDA10012  18/05/2018  12:33:48      Lunch          BK   \n",
       "996  ORDZ02231  23/02/2018   9:41:24  Breakfast          NS   \n",
       "997  ORDJ01070  31/07/2018  14:55:46      Lunch         NaN   \n",
       "998  ORDB05270   2/10/2018  17:07:36     Dinner          TP   \n",
       "999  ORDC06001  26/12/2018  19:49:51     Dinner          NS   \n",
       "\n",
       "                                           order_items  order_price  \\\n",
       "995     [('Chicken', 8), ('Burger', 8), ('Fries', 10)]       624.00   \n",
       "996  [('Pancake', 9), ('Eggs', 1), ('Cereal', 7), (...       417.25   \n",
       "997                      [('Burger', 1), ('Steak', 7)]       346.00   \n",
       "998       [('Shrimp', 4), ('Pasta', 3), ('Salmon', 5)]       503.50   \n",
       "999  [('Salmon', 4), ('Shrimp', 7), ('Fish&Chips', ...       932.00   \n",
       "\n",
       "     customer_lat  customer_lon  customerHasloyalty?  distance_to_customer_KM  \\\n",
       "995    -37.814807    144.957624                    0                    8.253   \n",
       "996    -37.800891    144.928206                    0                   10.102   \n",
       "997    -37.802758    145.002457                    0                      NaN   \n",
       "998    -37.823362    144.941746                    0                    9.360   \n",
       "999    -37.804271    145.011161                    0                   10.127   \n",
       "\n",
       "     delivery_fee  \n",
       "995     14.444586  \n",
       "996     15.342084  \n",
       "997     14.693429  \n",
       "998     13.644242  \n",
       "999     15.974725  "
      ]
     },
     "execution_count": 28,
     "metadata": {},
     "output_type": "execute_result"
    }
   ],
   "source": [
    "data_df.tail(5)"
   ]
  },
  {
   "cell_type": "markdown",
   "metadata": {},
   "source": [
    "dengan membandingkan sample values yang ditampilkan dan tipe data tiap kolom, kita dapat mendefinisikan jenis data masing-masing kolom dan menemukan masalah jenis data yang ada. Jenis data biasanya dikelompokan sebagai berikut:\n",
    "- Kuantitatif, bisa dibagi lagi menjadi:\n",
    "  - Continuous/ratio (how much): nilai bisa berada di antara dua angka bulat (non-finite value)\n",
    "  - Discrete/count (how many): nilai perhitungan dari tiap objek secara individual\n",
    "- Kategorikal, bisa dibagi lagi menjadi:\n",
    "  - Binary : hanya ada dua kategori (yes/no, 0/1)\n",
    "  - Nominal : kelompok/kategory yang tidak memiliki ranking/urutan\n",
    "  - Ordinal : kelompok/kategory yang dapat diurutkan sesuai ranking\n",
    "- tipe lain seperti tanggal dan waktu\n",
    "  \n",
    "jenis data yang berbeda memerlukan proses data processing yang berbeda pula.\n",
    "misal:\n",
    "- data kategorikal yang belum berupa angka harus diubah menjadi angka dengan proses labeling (one hot atau label encoding)\n",
    "- data kuantitatif, dapat memerlukan proses cleansing outlier dan data transformation (normalize)"
   ]
  },
  {
   "cell_type": "markdown",
   "metadata": {},
   "source": [
    "### Cek type data tiap kolom"
   ]
  },
  {
   "cell_type": "code",
   "execution_count": 21,
   "metadata": {},
   "outputs": [
    {
     "data": {
      "text/plain": [
       "order_id                    object\n",
       "date                        object\n",
       "time                        object\n",
       "order_type                  object\n",
       "branch_code                 object\n",
       "order_items                 object\n",
       "order_price                float64\n",
       "customer_lat               float64\n",
       "customer_lon               float64\n",
       "customerHasloyalty?          int64\n",
       "distance_to_customer_KM    float64\n",
       "delivery_fee               float64\n",
       "dtype: object"
      ]
     },
     "execution_count": 21,
     "metadata": {},
     "output_type": "execute_result"
    }
   ],
   "source": [
    "data_df.dtypes"
   ]
  },
  {
   "cell_type": "markdown",
   "metadata": {},
   "source": [
    "Kesimpulan sementara:\n",
    "- order_id\n",
    "\n",
    "data nominal, ID dari order tersebut dengan format (ORD + kode + angka), code ditengah mungkin berhubungan dengan kolom lain\n",
    "- date\n",
    "\n",
    "data tanggal order, jika dilihat sekilas ada masalah di urutan bulan dan hari\n",
    "- time\n",
    "\n",
    "data waktu order, menggunakan format 24H, memiliki 3 angka yang kemungkinan jam:menit:detik\n",
    "- order_tipe\n",
    "\n",
    "data ordinal/nominal, kelompok waktu makan (breakfast, lunch, dinner). Harusnya berhubungan dengan kolom time\n",
    "- branch_code\n",
    "\n",
    "kode dari cabang restaurant, terdapat missing data\n",
    "- order_items\n",
    "\n",
    "menu yang di pilih, memiliki data berupa kumpulan data yang didalamnya ada menu dan angka pesanan. harus ada preprocessing untuk mengubah bentuk data dalam kolom ini.\n",
    "- order_price\n",
    "\n",
    "data discrete, berupa jumlah harga dari barang yang dipesan, harusnya berhubungan dengan order_items\n",
    "- customer_lat\n",
    "\n",
    "data spatial, koordinat latitude dari pelanggan. menarik jika divisualisasikan dalam sebuah map\n",
    "- customer_lon\n",
    "\n",
    "data spatial, koordinat longitude dari pelanggan. menarik jika divisualisasikan dalam sebuah map\n",
    "- customer_hasLoyalty\n",
    "\n",
    "terlihat memiliki value 0 semua. sepertinya data binary, 0 atau 1... tipe data numeric, harusnya kategorical\n",
    "- distance_to_cust\n",
    "\n",
    "data continuous, jarak antara restoran dan pelanggan dalam KM, terlihat data outlier\n",
    "- delivery_fee\n",
    "\n",
    "data continuous, harga yang harus dibayar oleh pelanggan, harusnya berhubungan dengan distance (bisa juga merupakan target dari model prediktif (kasus regresi))"
   ]
  },
  {
   "cell_type": "markdown",
   "metadata": {},
   "source": [
    "## Cek Descriptive Statistic"
   ]
  },
  {
   "cell_type": "markdown",
   "metadata": {},
   "source": [
    "Code di bawah menampilkan statistik untuk numerical variable"
   ]
  },
  {
   "cell_type": "code",
   "execution_count": 30,
   "metadata": {},
   "outputs": [
    {
     "data": {
      "text/html": [
       "<div>\n",
       "<style scoped>\n",
       "    .dataframe tbody tr th:only-of-type {\n",
       "        vertical-align: middle;\n",
       "    }\n",
       "\n",
       "    .dataframe tbody tr th {\n",
       "        vertical-align: top;\n",
       "    }\n",
       "\n",
       "    .dataframe thead th {\n",
       "        text-align: right;\n",
       "    }\n",
       "</style>\n",
       "<table border=\"1\" class=\"dataframe\">\n",
       "  <thead>\n",
       "    <tr style=\"text-align: right;\">\n",
       "      <th></th>\n",
       "      <th>order_price</th>\n",
       "      <th>customer_lat</th>\n",
       "      <th>customer_lon</th>\n",
       "      <th>customerHasloyalty?</th>\n",
       "      <th>distance_to_customer_KM</th>\n",
       "      <th>delivery_fee</th>\n",
       "    </tr>\n",
       "  </thead>\n",
       "  <tbody>\n",
       "    <tr>\n",
       "      <th>count</th>\n",
       "      <td>1000.000000</td>\n",
       "      <td>1000.000000</td>\n",
       "      <td>1000.000000</td>\n",
       "      <td>1000.000000</td>\n",
       "      <td>950.000000</td>\n",
       "      <td>950.000000</td>\n",
       "    </tr>\n",
       "    <tr>\n",
       "      <th>mean</th>\n",
       "      <td>501.532500</td>\n",
       "      <td>-34.283183</td>\n",
       "      <td>144.234119</td>\n",
       "      <td>0.077000</td>\n",
       "      <td>8.708305</td>\n",
       "      <td>13.864489</td>\n",
       "    </tr>\n",
       "    <tr>\n",
       "      <th>std</th>\n",
       "      <td>270.762043</td>\n",
       "      <td>18.251347</td>\n",
       "      <td>11.542847</td>\n",
       "      <td>0.266725</td>\n",
       "      <td>2.138843</td>\n",
       "      <td>2.764187</td>\n",
       "    </tr>\n",
       "    <tr>\n",
       "      <th>min</th>\n",
       "      <td>28.500000</td>\n",
       "      <td>-38.110916</td>\n",
       "      <td>-37.820866</td>\n",
       "      <td>0.000000</td>\n",
       "      <td>3.479000</td>\n",
       "      <td>4.272860</td>\n",
       "    </tr>\n",
       "    <tr>\n",
       "      <th>25%</th>\n",
       "      <td>294.012500</td>\n",
       "      <td>-37.817748</td>\n",
       "      <td>144.951225</td>\n",
       "      <td>0.000000</td>\n",
       "      <td>7.746750</td>\n",
       "      <td>12.608034</td>\n",
       "    </tr>\n",
       "    <tr>\n",
       "      <th>50%</th>\n",
       "      <td>454.750000</td>\n",
       "      <td>-37.812055</td>\n",
       "      <td>144.963213</td>\n",
       "      <td>0.000000</td>\n",
       "      <td>8.751000</td>\n",
       "      <td>13.878203</td>\n",
       "    </tr>\n",
       "    <tr>\n",
       "      <th>75%</th>\n",
       "      <td>659.625000</td>\n",
       "      <td>-37.805428</td>\n",
       "      <td>144.978749</td>\n",
       "      <td>0.000000</td>\n",
       "      <td>9.712250</td>\n",
       "      <td>15.239978</td>\n",
       "    </tr>\n",
       "    <tr>\n",
       "      <th>max</th>\n",
       "      <td>1411.000000</td>\n",
       "      <td>144.973716</td>\n",
       "      <td>145.019431</td>\n",
       "      <td>1.000000</td>\n",
       "      <td>51.061000</td>\n",
       "      <td>56.268727</td>\n",
       "    </tr>\n",
       "  </tbody>\n",
       "</table>\n",
       "</div>"
      ],
      "text/plain": [
       "       order_price  customer_lat  customer_lon  customerHasloyalty?  \\\n",
       "count  1000.000000   1000.000000   1000.000000          1000.000000   \n",
       "mean    501.532500    -34.283183    144.234119             0.077000   \n",
       "std     270.762043     18.251347     11.542847             0.266725   \n",
       "min      28.500000    -38.110916    -37.820866             0.000000   \n",
       "25%     294.012500    -37.817748    144.951225             0.000000   \n",
       "50%     454.750000    -37.812055    144.963213             0.000000   \n",
       "75%     659.625000    -37.805428    144.978749             0.000000   \n",
       "max    1411.000000    144.973716    145.019431             1.000000   \n",
       "\n",
       "       distance_to_customer_KM  delivery_fee  \n",
       "count               950.000000    950.000000  \n",
       "mean                  8.708305     13.864489  \n",
       "std                   2.138843      2.764187  \n",
       "min                   3.479000      4.272860  \n",
       "25%                   7.746750     12.608034  \n",
       "50%                   8.751000     13.878203  \n",
       "75%                   9.712250     15.239978  \n",
       "max                  51.061000     56.268727  "
      ]
     },
     "execution_count": 30,
     "metadata": {},
     "output_type": "execute_result"
    }
   ],
   "source": [
    "data_df.describe()"
   ]
  },
  {
   "cell_type": "markdown",
   "metadata": {},
   "source": [
    "Catatan yang sekilas terlihat dari tabel di atas:\n",
    "- customer lat memiliki nilai maximal 144, sedangkan lon memiliki nilai min -37. mungkin ada row yang terbalik lat dan lon nya\n",
    "- max distance dan delivery fee sangat jauh dari rata-rata distance... apakah salah input atau memang outlier\n",
    "- customer loyalty, memang data binary yang sebagian besar bernilai 0 (>75%)\n",
    "\n",
    "Code di bawah untuk menampilkan statistik non numeric"
   ]
  },
  {
   "cell_type": "code",
   "execution_count": 31,
   "metadata": {},
   "outputs": [
    {
     "data": {
      "text/html": [
       "<div>\n",
       "<style scoped>\n",
       "    .dataframe tbody tr th:only-of-type {\n",
       "        vertical-align: middle;\n",
       "    }\n",
       "\n",
       "    .dataframe tbody tr th {\n",
       "        vertical-align: top;\n",
       "    }\n",
       "\n",
       "    .dataframe thead th {\n",
       "        text-align: right;\n",
       "    }\n",
       "</style>\n",
       "<table border=\"1\" class=\"dataframe\">\n",
       "  <thead>\n",
       "    <tr style=\"text-align: right;\">\n",
       "      <th></th>\n",
       "      <th>order_id</th>\n",
       "      <th>date</th>\n",
       "      <th>time</th>\n",
       "      <th>order_type</th>\n",
       "      <th>branch_code</th>\n",
       "      <th>order_items</th>\n",
       "    </tr>\n",
       "  </thead>\n",
       "  <tbody>\n",
       "    <tr>\n",
       "      <th>count</th>\n",
       "      <td>1000</td>\n",
       "      <td>1000</td>\n",
       "      <td>1000</td>\n",
       "      <td>1000</td>\n",
       "      <td>900</td>\n",
       "      <td>1000</td>\n",
       "    </tr>\n",
       "    <tr>\n",
       "      <th>unique</th>\n",
       "      <td>1000</td>\n",
       "      <td>360</td>\n",
       "      <td>72</td>\n",
       "      <td>3</td>\n",
       "      <td>6</td>\n",
       "      <td>990</td>\n",
       "    </tr>\n",
       "    <tr>\n",
       "      <th>top</th>\n",
       "      <td>ORDZ10998</td>\n",
       "      <td>2/04/2018</td>\n",
       "      <td>19:39:43</td>\n",
       "      <td>Lunch</td>\n",
       "      <td>BK</td>\n",
       "      <td>[('Chicken', 9), ('Salad', 3)]</td>\n",
       "    </tr>\n",
       "    <tr>\n",
       "      <th>freq</th>\n",
       "      <td>1</td>\n",
       "      <td>9</td>\n",
       "      <td>25</td>\n",
       "      <td>361</td>\n",
       "      <td>293</td>\n",
       "      <td>2</td>\n",
       "    </tr>\n",
       "  </tbody>\n",
       "</table>\n",
       "</div>"
      ],
      "text/plain": [
       "         order_id       date      time order_type branch_code  \\\n",
       "count        1000       1000      1000       1000         900   \n",
       "unique       1000        360        72          3           6   \n",
       "top     ORDZ10998  2/04/2018  19:39:43      Lunch          BK   \n",
       "freq            1          9        25        361         293   \n",
       "\n",
       "                           order_items  \n",
       "count                             1000  \n",
       "unique                             990  \n",
       "top     [('Chicken', 9), ('Salad', 3)]  \n",
       "freq                                 2  "
      ]
     },
     "execution_count": 31,
     "metadata": {},
     "output_type": "execute_result"
    }
   ],
   "source": [
    "data_df.describe(include='O')"
   ]
  },
  {
   "cell_type": "markdown",
   "metadata": {},
   "source": [
    "Catatan dari tabel di atas:\n",
    "- unik time hanya 72 dari 1000 record? apakah mungkin beberapa costumer memesan pada waktu yang sama?\n",
    "- branch code ada 6?"
   ]
  },
  {
   "cell_type": "markdown",
   "metadata": {},
   "source": [
    "### Analisis lebih dalam dari hasil desc stats"
   ]
  },
  {
   "cell_type": "code",
   "execution_count": 41,
   "metadata": {},
   "outputs": [
    {
     "data": {
      "text/plain": [
       "(41, 12)"
      ]
     },
     "execution_count": 41,
     "metadata": {},
     "output_type": "execute_result"
    }
   ],
   "source": [
    "data_df[data_df.customer_lat > -30].shape"
   ]
  },
  {
   "cell_type": "code",
   "execution_count": 44,
   "metadata": {},
   "outputs": [
    {
     "data": {
      "text/plain": [
       "(4, 12)"
      ]
     },
     "execution_count": 44,
     "metadata": {},
     "output_type": "execute_result"
    }
   ],
   "source": [
    "data_df[data_df.customer_lon < 140].shape"
   ]
  },
  {
   "cell_type": "code",
   "execution_count": 45,
   "metadata": {},
   "outputs": [
    {
     "data": {
      "text/plain": [
       "0    923\n",
       "1     77\n",
       "Name: customerHasloyalty?, dtype: int64"
      ]
     },
     "execution_count": 45,
     "metadata": {},
     "output_type": "execute_result"
    }
   ],
   "source": [
    "data_df['customerHasloyalty?'].value_counts()"
   ]
  },
  {
   "cell_type": "code",
   "execution_count": 49,
   "metadata": {},
   "outputs": [
    {
     "data": {
      "text/plain": [
       "BK    293\n",
       "TP    293\n",
       "NS    284\n",
       "bk     13\n",
       "tp      9\n",
       "ns      8\n",
       "Name: branch_code, dtype: int64"
      ]
     },
     "execution_count": 49,
     "metadata": {},
     "output_type": "execute_result"
    }
   ],
   "source": [
    "data_df.branch_code.value_counts()"
   ]
  },
  {
   "cell_type": "markdown",
   "metadata": {},
   "source": [
    "## Basic Visualization"
   ]
  },
  {
   "cell_type": "markdown",
   "metadata": {},
   "source": [
    "| Tipe | Univariate | Bivariate | Categorical |\n",
    "| --- | --- | --- | --- |\n",
    "| Numerical | Histogram <br> Boxplot | Scatterplot | Side by Side Box plot |\n",
    "| Categorical | Barplot <br> Pie chart | Segmented Bar Plot<br>Mosaic Plot| |"
   ]
  },
  {
   "cell_type": "markdown",
   "metadata": {},
   "source": [
    "### Numerical\n",
    "#### Histogram"
   ]
  },
  {
   "cell_type": "code",
   "execution_count": 54,
   "metadata": {},
   "outputs": [
    {
     "data": {
      "text/plain": [
       "<matplotlib.axes._subplots.AxesSubplot at 0x27c54c7c668>"
      ]
     },
     "execution_count": 54,
     "metadata": {},
     "output_type": "execute_result"
    },
    {
     "data": {
      "image/png": "[encoded data removed]",
      "text/plain": [
       "<Figure size 432x288 with 1 Axes>"
      ]
     },
     "metadata": {
      "needs_background": "light"
     },
     "output_type": "display_data"
    }
   ],
   "source": [
    "data_df.order_price.plot.hist()"
   ]
  },
  {
   "cell_type": "code",
   "execution_count": 51,
   "metadata": {},
   "outputs": [
    {
     "data": {
      "text/plain": [
       "array([[<matplotlib.axes._subplots.AxesSubplot object at 0x0000027C5410C5C0>,\n",
       "        <matplotlib.axes._subplots.AxesSubplot object at 0x0000027C547D5240>],\n",
       "       [<matplotlib.axes._subplots.AxesSubplot object at 0x0000027C54505390>,\n",
       "        <matplotlib.axes._subplots.AxesSubplot object at 0x0000027C5454C518>],\n",
       "       [<matplotlib.axes._subplots.AxesSubplot object at 0x0000027C546E5C18>,\n",
       "        <matplotlib.axes._subplots.AxesSubplot object at 0x0000027C54636A58>]],\n",
       "      dtype=object)"
      ]
     },
     "execution_count": 51,
     "metadata": {},
     "output_type": "execute_result"
    },
    {
     "data": {
      "image/png": "[encoded data removed]",
      "text/plain": [
       "<Figure size 432x288 with 6 Axes>"
      ]
     },
     "metadata": {
      "needs_background": "light"
     },
     "output_type": "display_data"
    }
   ],
   "source": [
    "data_df[['order_price','customer_lat','customer_lon','customerHasloyalty?','distance_to_customer_KM','delivery_fee']].hist()"
   ]
  },
  {
   "cell_type": "markdown",
   "metadata": {},
   "source": [
    "#### Boxplot"
   ]
  },
  {
   "cell_type": "code",
   "execution_count": 64,
   "metadata": {},
   "outputs": [
    {
     "data": {
      "text/plain": [
       "<matplotlib.axes._subplots.AxesSubplot at 0x27c57347c50>"
      ]
     },
     "execution_count": 64,
     "metadata": {},
     "output_type": "execute_result"
    },
    {
     "data": {
      "image/png": "[encoded data removed]",
      "text/plain": [
       "<Figure size 432x288 with 1 Axes>"
      ]
     },
     "metadata": {
      "needs_background": "light"
     },
     "output_type": "display_data"
    }
   ],
   "source": [
    "data_df.distance_to_customer_KM.plot.box()"
   ]
  },
  {
   "cell_type": "code",
   "execution_count": 70,
   "metadata": {},
   "outputs": [
    {
     "data": {
      "text/plain": [
       "order_price                   AxesSubplot(0.125,0.536818;0.227941x0.343182)\n",
       "customer_lat               AxesSubplot(0.398529,0.536818;0.227941x0.343182)\n",
       "customer_lon               AxesSubplot(0.672059,0.536818;0.227941x0.343182)\n",
       "customerHasloyalty?              AxesSubplot(0.125,0.125;0.227941x0.343182)\n",
       "distance_to_customer_KM       AxesSubplot(0.398529,0.125;0.227941x0.343182)\n",
       "delivery_fee                  AxesSubplot(0.672059,0.125;0.227941x0.343182)\n",
       "dtype: object"
      ]
     },
     "execution_count": 70,
     "metadata": {},
     "output_type": "execute_result"
    },
    {
     "data": {
      "image/png": "[encoded data removed]",
      "text/plain": [
       "<Figure size 1440x360 with 6 Axes>"
      ]
     },
     "metadata": {
      "needs_background": "light"
     },
     "output_type": "display_data"
    }
   ],
   "source": [
    "data_df[['order_price','customer_lat','customer_lon','customerHasloyalty?','distance_to_customer_KM','delivery_fee']].plot(kind='box',subplots=True, layout=(2,3), figsize=(20,5))"
   ]
  },
  {
   "cell_type": "markdown",
   "metadata": {},
   "source": [
    "### Categorical"
   ]
  },
  {
   "cell_type": "code",
   "execution_count": 53,
   "metadata": {},
   "outputs": [
    {
     "data": {
      "text/plain": [
       "<matplotlib.axes._subplots.AxesSubplot at 0x27c551b0518>"
      ]
     },
     "execution_count": 53,
     "metadata": {},
     "output_type": "execute_result"
    },
    {
     "data": {
      "image/png": "[encoded data removed]",
      "text/plain": [
       "<Figure size 432x288 with 1 Axes>"
      ]
     },
     "metadata": {
      "needs_background": "light"
     },
     "output_type": "display_data"
    }
   ],
   "source": [
    "data_df.branch_code.value_counts().plot.bar()"
   ]
  },
  {
   "cell_type": "code",
   "execution_count": 56,
   "metadata": {},
   "outputs": [
    {
     "data": {
      "text/plain": [
       "<matplotlib.axes._subplots.AxesSubplot at 0x27c54cdacc0>"
      ]
     },
     "execution_count": 56,
     "metadata": {},
     "output_type": "execute_result"
    },
    {
     "data": {
      "image/png": "[encoded data removed]",
      "text/plain": [
       "<Figure size 432x288 with 1 Axes>"
      ]
     },
     "metadata": {
      "needs_background": "light"
     },
     "output_type": "display_data"
    }
   ],
   "source": [
    "data_df.order_type.value_counts().plot.barh()"
   ]
  },
  {
   "cell_type": "markdown",
   "metadata": {},
   "source": [
    "## Missing Value\n",
    "#### Calculation"
   ]
  },
  {
   "cell_type": "code",
   "execution_count": 62,
   "metadata": {},
   "outputs": [
    {
     "data": {
      "text/plain": [
       "order_id                     0\n",
       "date                         0\n",
       "time                         0\n",
       "order_type                   0\n",
       "branch_code                100\n",
       "order_items                  0\n",
       "order_price                  0\n",
       "customer_lat                 0\n",
       "customer_lon                 0\n",
       "customerHasloyalty?          0\n",
       "distance_to_customer_KM     50\n",
       "delivery_fee                50\n",
       "dtype: int64"
      ]
     },
     "execution_count": 62,
     "metadata": {},
     "output_type": "execute_result"
    }
   ],
   "source": [
    "data_df.isna().sum()"
   ]
  },
  {
   "cell_type": "markdown",
   "metadata": {},
   "source": [
    "#### Visualization"
   ]
  },
  {
   "cell_type": "code",
   "execution_count": 58,
   "metadata": {},
   "outputs": [],
   "source": [
    "import missingno as msno"
   ]
  },
  {
   "cell_type": "code",
   "execution_count": 59,
   "metadata": {},
   "outputs": [
    {
     "data": {
      "text/plain": [
       "<matplotlib.axes._subplots.AxesSubplot at 0x27c53cf7710>"
      ]
     },
     "execution_count": 59,
     "metadata": {},
     "output_type": "execute_result"
    },
    {
     "data": {
      "image/png": "[encoded data removed]",
      "text/plain": [
       "<Figure size 1800x720 with 2 Axes>"
      ]
     },
     "metadata": {
      "needs_background": "light"
     },
     "output_type": "display_data"
    }
   ],
   "source": [
    "msno.matrix(data_df)"
   ]
  },
  {
   "cell_type": "code",
   "execution_count": null,
   "metadata": {},
   "outputs": [],
   "source": []
  }
 ],
 "metadata": {
  "kernelspec": {
   "display_name": "Python 3",
   "language": "python",
   "name": "python3"
  },
  "language_info": {
   "codemirror_mode": {
    "name": "ipython",
    "version": 3
   },
   "file_extension": ".py",
   "mimetype": "text/x-python",
   "name": "python",
   "nbconvert_exporter": "python",
   "pygments_lexer": "ipython3",
   "version": "3.7.1"
  }
 },
 "nbformat": 4,
 "nbformat_minor": 4
}
